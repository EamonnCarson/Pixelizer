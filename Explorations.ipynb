{
 "cells": [
  {
   "cell_type": "code",
   "execution_count": 1,
   "metadata": {
    "collapsed": true
   },
   "outputs": [],
   "source": [
    "import numpy as np"
   ]
  },
  {
   "cell_type": "markdown",
   "metadata": {},
   "source": [
    "# K-means centroid method testing:"
   ]
  },
  {
   "cell_type": "code",
   "execution_count": 51,
   "metadata": {
    "collapsed": false
   },
   "outputs": [
    {
     "name": "stdout",
     "output_type": "stream",
     "text": [
      "[[1 2 3]\n",
      " [1 2 3]]\n",
      "[[0 5]\n",
      " [0 5]]\n",
      "[[ 1.41421356  2.82842712  4.24264069]\n",
      " [ 5.65685425  4.24264069  2.82842712]]\n",
      "[0 0 1]\n",
      "groups:\n",
      "[[1 2]\n",
      " [1 2]]\n",
      "[[3]\n",
      " [3]]\n"
     ]
    }
   ],
   "source": [
    "a = np.matrix([[1, 2, 3], [1, 2, 3]])\n",
    "b = np.matrix([[0, 0], [5, 5]]).T\n",
    "print(a)\n",
    "print(b)\n",
    "\n",
    "centroids = b\n",
    "points = a\n",
    "distances = []\n",
    "for centroid in np.hsplit(centroids, centroids.shape[1]):\n",
    "    distance_to_centroid = np.linalg.norm(points - centroid, axis=0)\n",
    "    distances.append(distance_to_centroid)\n",
    "distances = np.vstack(distances)\n",
    "print(distances)\n",
    "nearest_centroid = np.argmin(distances, axis=0)\n",
    "print(nearest_centroid)\n",
    "print('groups:')\n",
    "for (index, centroid) in enumerate(np.hsplit(centroids, centroids.shape[1])):\n",
    "    group_points = np.compress(nearest_centroid == index, points, axis=1)\n",
    "    print(group_points)"
   ]
  },
  {
   "cell_type": "markdown",
   "metadata": {
    "collapsed": true
   },
   "source": [
    "# K-means main dispatch"
   ]
  },
  {
   "cell_type": "code",
   "execution_count": 98,
   "metadata": {
    "collapsed": false
   },
   "outputs": [
    {
     "name": "stdout",
     "output_type": "stream",
     "text": [
      "[[1 2]\n",
      " [1 2]]\n",
      "[[3]\n",
      " [3]]\n"
     ]
    }
   ],
   "source": [
    "centroid_indices = np.random.choice(points.shape[1], 2, replace=False)\n",
    "\n",
    "for chunk in np.array_split(a, 2, axis=1):\n",
    "    print(chunk)"
   ]
  },
  {
   "cell_type": "code",
   "execution_count": null,
   "metadata": {
    "collapsed": true
   },
   "outputs": [],
   "source": []
  }
 ],
 "metadata": {
  "kernelspec": {
   "display_name": "Python [conda root]",
   "language": "python",
   "name": "conda-root-py"
  },
  "language_info": {
   "codemirror_mode": {
    "name": "ipython",
    "version": 3
   },
   "file_extension": ".py",
   "mimetype": "text/x-python",
   "name": "python",
   "nbconvert_exporter": "python",
   "pygments_lexer": "ipython3",
   "version": "3.5.2"
  }
 },
 "nbformat": 4,
 "nbformat_minor": 2
}
